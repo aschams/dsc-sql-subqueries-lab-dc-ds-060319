{
 "cells": [
  {
   "cell_type": "markdown",
   "metadata": {},
   "source": [
    "# SQL Subqueries - Lab\n",
    "\n",
    "## Introduction\n",
    "\n",
    "Now that you've seen how subqueries work, it's time to get some practice writing them! Not all of the queries will require subqueries, but all will be a bit more complex and require some thought and review about aggregates, grouping, ordering, filtering, joins and subqueries. Good luck!  \n",
    "\n",
    "## Objectives\n",
    "\n",
    "You will be able to:\n",
    "\n",
    "* Write subqueries to decompose complex queries\n",
    "\n",
    "## CRM Database Schema\n",
    "\n",
    "Once again, here's the schema for the CRM database you'll continue to practice with.\n",
    "\n",
    "<img src=\"images/Database-Schema.png\" width=\"600\">\n",
    "\n",
    "## Connect to the Database\n",
    "\n",
    "As usual, start by importing the necessary packages and connecting to the database **data.sqlite**."
   ]
  },
  {
   "cell_type": "code",
   "execution_count": 2,
   "metadata": {},
   "outputs": [],
   "source": [
    "#Your code here; import the necessary packages\n",
    "import sqlite3\n",
    "import pandas as pd"
   ]
  },
  {
   "cell_type": "code",
   "execution_count": 3,
   "metadata": {},
   "outputs": [],
   "source": [
    "#Your code here; create the connection and cursor\n",
    "conn = sqlite3.connect('data.sqlite')\n",
    "c = conn.cursor()"
   ]
  },
  {
   "cell_type": "markdown",
   "metadata": {},
   "source": [
    "## Write an Equivalent Query using a Subquery\n",
    "\n",
    "```SQL\n",
    "select customerNumber,\n",
    "       contactLastName,\n",
    "       contactFirstName\n",
    "       from customers\n",
    "       join orders \n",
    "       using(customerNumber)\n",
    "       where orderDate = '2003-01-31';\n",
    "```"
   ]
  },
  {
   "cell_type": "code",
   "execution_count": 3,
   "metadata": {},
   "outputs": [
    {
     "data": {
      "text/plain": [
       "[('141', 'Freyre', 'Diego ')]"
      ]
     },
     "execution_count": 3,
     "metadata": {},
     "output_type": "execute_result"
    }
   ],
   "source": [
    "#Your code here; use a subquery. No join will be necessary.\n",
    "c.execute('''SELECT customerNumber, contactLastName, contactFirstName\n",
    "             FROM customers \n",
    "             WHERE customerNumber = (SELECT customerNumber\n",
    "                                     FROM orders\n",
    "                                     WHERE orderDate = '2003-01-31')''')\n",
    "c.fetchall()"
   ]
  },
  {
   "cell_type": "markdown",
   "metadata": {},
   "source": [
    "## Select the Total Number of Orders for Each Product Name\n",
    "\n",
    "Sort the results by the total number of items sold for that product."
   ]
  },
  {
   "cell_type": "code",
   "execution_count": 5,
   "metadata": {},
   "outputs": [
    {
     "data": {
      "text/plain": [
       "[('S18_3232', '1992 Ferrari 360 Spider red', 53, 1808),\n",
       " ('S18_1342', '1937 Lincoln Berline', 28, 1111),\n",
       " ('S700_4002', 'American Airlines: MD-11S', 28, 1085),\n",
       " ('S18_3856', '1941 Chevrolet Special Deluxe Cabriolet', 28, 1076),\n",
       " ('S50_1341', '1930 Buick Marquette Phaeton', 28, 1074)]"
      ]
     },
     "execution_count": 5,
     "metadata": {},
     "output_type": "execute_result"
    }
   ],
   "source": [
    "#Your code here\n",
    "c.execute('''SELECT productCode, \n",
    "                    productName, \n",
    "                    COUNT(DISTINCT(orderNumber)) as numOrders, \n",
    "                    SUM(quantityOrdered) as totalOrdered\n",
    "             FROM products\n",
    "             JOIN orderDetails\n",
    "             USING(productCode)\n",
    "             GROUP BY 1\n",
    "             ORDER BY totalOrdered DESC\n",
    "             LIMIT 5\n",
    "             ''')\n",
    "c.fetchall()"
   ]
  },
  {
   "cell_type": "markdown",
   "metadata": {},
   "source": [
    "## Select the Product Name and the  Total Number of People Who Have Ordered Each Product\n",
    "\n",
    "Sort the results in descending order."
   ]
  },
  {
   "cell_type": "code",
   "execution_count": 9,
   "metadata": {},
   "outputs": [
    {
     "data": {
      "text/plain": [
       "[('1992 Ferrari 360 Spider red', 40),\n",
       " ('1934 Ford V8 Coupe', 27),\n",
       " ('1952 Alpine Renault 1300', 27),\n",
       " ('1972 Alfa Romeo GTA', 27),\n",
       " ('Boeing X-32A JSF', 27)]"
      ]
     },
     "execution_count": 9,
     "metadata": {},
     "output_type": "execute_result"
    }
   ],
   "source": [
    "#Your code here\n",
    "c.execute('''SELECT productName, COUNT(DISTINCT(customerNumber)) as numCustsOrdered\n",
    "             FROM products\n",
    "             JOIN orderdetails\n",
    "             USING(productCode)\n",
    "             JOIN orders\n",
    "             USING(orderNumber)\n",
    "             JOIN customers\n",
    "             USING(customerNumber)\n",
    "             GROUP BY productName\n",
    "             ORDER BY numCustsOrdered DESC\n",
    "             LIMIT 5''')\n",
    "c.fetchall()"
   ]
  },
  {
   "cell_type": "markdown",
   "metadata": {},
   "source": [
    "## Select the Employee Number, Office Code, City (of the office), and Name (First and Last) of those Employees who Sold Products that Have Been Ordered by Less Then 20 people.\n",
    "\n",
    "This problem is a bit tougher. To start, think about how you might break the problem up. Be sure that your results only list each employee once."
   ]
  },
  {
   "cell_type": "code",
   "execution_count": 15,
   "metadata": {},
   "outputs": [
    {
     "data": {
      "text/plain": [
       "[('18th Century Vintage Horse Carriage', 26),\n",
       " ('18th century schooner', 24),\n",
       " ('1900s Vintage Bi-Plane', 26),\n",
       " ('1900s Vintage Tri-Plane', 22),\n",
       " ('1903 Ford Model A', 21),\n",
       " ('1904 Buick Runabout', 22),\n",
       " ('1911 Ford Town Car', 23),\n",
       " ('1912 Ford Model T Delivery Wagon', 25),\n",
       " ('1913 Ford Model T Speedster', 26),\n",
       " ('1917 Grand Touring Sedan', 24),\n",
       " ('1917 Maxwell Touring Car', 24),\n",
       " ('1926 Ford Fire Engine', 23),\n",
       " ('1928 British Royal Navy Airplane', 22),\n",
       " ('1928 Ford Phaeton Deluxe', 23),\n",
       " ('1928 Mercedes-Benz SSK', 21),\n",
       " ('1930 Buick Marquette Phaeton', 23),\n",
       " ('1932 Alfa Romeo 8C2300 Spider Sport', 23),\n",
       " ('1932 Model A Ford J-Coupe', 24),\n",
       " ('1934 Ford V8 Coupe', 27),\n",
       " ('1936 Chrysler Airflow', 24),\n",
       " ('1936 Harley Davidson El Knucklehead', 25),\n",
       " ('1936 Mercedes Benz 500k Roadster', 21),\n",
       " ('1936 Mercedes-Benz 500K Special Roadster', 25),\n",
       " ('1937 Horch 930V Limousine', 26),\n",
       " ('1937 Lincoln Berline', 25),\n",
       " ('1938 Cadillac V-16 Presidential Limousine', 23),\n",
       " ('1939 Cadillac Limousine', 23),\n",
       " ('1939 Chevrolet Deluxe Coupe', 24),\n",
       " ('1940 Ford Delivery Sedan', 26),\n",
       " ('1940 Ford Pickup Truck', 25),\n",
       " ('1940s Ford truck', 25),\n",
       " ('1941 Chevrolet Special Deluxe Cabriolet', 26),\n",
       " ('1948 Porsche 356-A Roadster', 25),\n",
       " ('1948 Porsche Type 356 Roadster', 21),\n",
       " ('1949 Jaguar XK 120', 18),\n",
       " (\"1950's Chicago Surface Lines Streetcar\", 22),\n",
       " ('1952 Alpine Renault 1300', 27),\n",
       " ('1952 Citroen-15CV', 18),\n",
       " ('1954 Greyhound Scenicruiser', 20),\n",
       " ('1956 Porsche 356A Coupe', 22),\n",
       " ('1957 Chevy Pickup', 21),\n",
       " ('1957 Corvette Convertible', 21),\n",
       " ('1957 Ford Thunderbird', 20),\n",
       " ('1957 Vespa GS150', 21),\n",
       " ('1958 Chevy Corvette Limited Edition', 19),\n",
       " ('1958 Setra Bus', 23),\n",
       " ('1960 BSA Gold Star DBD34', 25),\n",
       " ('1961 Chevrolet Impala', 22),\n",
       " ('1962 City of Detroit Streetcar', 22),\n",
       " ('1962 LanciaA Delta 16V', 25),\n",
       " ('1962 Volkswagen Microbus', 21),\n",
       " ('1964 Mercedes Tour Bus', 22),\n",
       " ('1965 Aston Martin DB5', 22),\n",
       " ('1966 Shelby Cobra 427 S/C', 21),\n",
       " ('1968 Dodge Charger', 22),\n",
       " ('1968 Ford Mustang', 23),\n",
       " ('1969 Chevrolet Camaro Z28', 18),\n",
       " ('1969 Corvair Monza', 22),\n",
       " ('1969 Dodge Charger', 24),\n",
       " ('1969 Dodge Super Bee', 21),\n",
       " ('1969 Ford Falcon', 22),\n",
       " ('1969 Harley Davidson Ultimate Chopper', 26),\n",
       " ('1970 Chevy Chevelle SS 454', 20),\n",
       " ('1970 Dodge Coronet', 20),\n",
       " ('1970 Plymouth Hemi Cuda', 23),\n",
       " ('1970 Triumph Spitfire', 21),\n",
       " ('1971 Alpine Renault 1600s', 22),\n",
       " ('1972 Alfa Romeo GTA', 27),\n",
       " ('1974 Ducati 350 Mk3 Desmo', 23),\n",
       " ('1976 Ford Gran Torino', 20),\n",
       " ('1980s Black Hawk Helicopter', 26),\n",
       " ('1980’s GM Manhattan Express', 23),\n",
       " ('1982 Camaro Z28', 22),\n",
       " ('1982 Ducati 900 Monster', 22),\n",
       " ('1982 Ducati 996 R', 21),\n",
       " ('1982 Lamborghini Diablo', 21),\n",
       " ('1992 Ferrari 360 Spider red', 40),\n",
       " ('1992 Porsche Cayenne Turbo Silver', 20),\n",
       " ('1993 Mazda RX-7', 25),\n",
       " ('1995 Honda Civic', 26),\n",
       " ('1996 Moto Guzzi 1100i', 26),\n",
       " ('1996 Peterbilt 379 Stake Bed with Outrigger', 23),\n",
       " ('1997 BMW F650 ST', 24),\n",
       " ('1997 BMW R 1100 S', 25),\n",
       " ('1998 Chrysler Plymouth Prowler', 21),\n",
       " ('1999 Indy 500 Monte Carlo SS', 21),\n",
       " ('1999 Yamaha Speed Boat', 26),\n",
       " ('2001 Ferrari Enzo', 23),\n",
       " ('2002 Chevy Corvette', 18),\n",
       " ('2002 Suzuki XREO', 25),\n",
       " ('2002 Yamaha YZR M1', 24),\n",
       " ('2003 Harley-Davidson Eagle Drag Bike', 25),\n",
       " ('ATA: B757-300', 25),\n",
       " ('America West Airlines B757-200', 25),\n",
       " ('American Airlines: B767-300', 23),\n",
       " ('American Airlines: MD-11S', 26),\n",
       " ('Boeing X-32A JSF', 27),\n",
       " ('Collectable Wooden Train', 20),\n",
       " ('Corsair F4U ( Bird Cage)', 26),\n",
       " ('Diamond T620 Semi-Skirted Tanker', 22),\n",
       " ('F/A 18 Hornet 1/72', 24),\n",
       " ('HMS Bounty', 26),\n",
       " ('P-51-D Mustang', 24),\n",
       " ('Pont Yacht', 24),\n",
       " ('The Mayflower', 22),\n",
       " ('The Queen Mary', 24),\n",
       " ('The Schooner Bluenose', 23),\n",
       " ('The Titanic', 22),\n",
       " ('The USS Constitution Ship', 23)]"
      ]
     },
     "execution_count": 15,
     "metadata": {},
     "output_type": "execute_result"
    }
   ],
   "source": [
    "c.execute('''SELECT productName, COUNT(DISTINCT(customerNumber)) as \n",
    "             FROM products\n",
    "             JOIN orderdetails\n",
    "             USING(productCode)\n",
    "             JOIN orders\n",
    "             USING(orderNumber)\n",
    "             GROUP BY 1''')\n",
    "c.fetchall()"
   ]
  },
  {
   "cell_type": "code",
   "execution_count": 11,
   "metadata": {},
   "outputs": [
    {
     "data": {
      "text/plain": [
       "[('1002', '1', 'San Francisco', 'Diane', 'Murphy'),\n",
       " ('1056', '1', 'San Francisco', 'Mary', 'Patterson'),\n",
       " ('1076', '1', 'San Francisco', 'Jeff', 'Firrelli'),\n",
       " ('1088', '6', 'Sydney', 'William', 'Patterson'),\n",
       " ('1102', '4', 'Paris', 'Gerard', 'Bondur'),\n",
       " ('1143', '1', 'San Francisco', 'Anthony', 'Bow'),\n",
       " ('1165', '1', 'San Francisco', 'Leslie', 'Jennings'),\n",
       " ('1166', '1', 'San Francisco', 'Leslie', 'Thompson'),\n",
       " ('1188', '2', 'Boston', 'Julie', 'Firrelli'),\n",
       " ('1216', '2', 'Boston', 'Steve', 'Patterson'),\n",
       " ('1286', '3', 'NYC', 'Foon Yue', 'Tseng'),\n",
       " ('1323', '3', 'NYC', 'George', 'Vanauf'),\n",
       " ('1337', '4', 'Paris', 'Loui', 'Bondur'),\n",
       " ('1370', '4', 'Paris', 'Gerard', 'Hernandez'),\n",
       " ('1401', '4', 'Paris', 'Pamela', 'Castillo'),\n",
       " ('1501', '7', 'London', 'Larry', 'Bott'),\n",
       " ('1504', '7', 'London', 'Barry', 'Jones'),\n",
       " ('1611', '6', 'Sydney', 'Andy', 'Fixter'),\n",
       " ('1612', '6', 'Sydney', 'Peter', 'Marsh'),\n",
       " ('1619', '6', 'Sydney', 'Tom', 'King'),\n",
       " ('1621', '5', 'Tokyo', 'Mami', 'Nishi'),\n",
       " ('1625', '5', 'Tokyo', 'Yoshimi', 'Kato'),\n",
       " ('1702', '4', 'Paris', 'Martin', 'Gerard')]"
      ]
     },
     "execution_count": 11,
     "metadata": {},
     "output_type": "execute_result"
    }
   ],
   "source": [
    "#Your code here\n",
    "c.execute('''SELECT employeeNumber, officeCode, City, firstName, lastName\n",
    "             FROM employees e\n",
    "             JOIN offices\n",
    "             USING(officeCode)\n",
    "             WHERE e.employeeNumber IN (SELECT employeeNumber\n",
    "                                        FROM employees\n",
    "                                        JOIN )\n",
    "             ''')\n",
    "c.fetchall()"
   ]
  },
  {
   "cell_type": "markdown",
   "metadata": {},
   "source": [
    "## Select the Employee Number, Name (First and Last) and Number of Customers of Employees Who's Customers Have an Average Credit Limit of Over 15K"
   ]
  },
  {
   "cell_type": "code",
   "execution_count": null,
   "metadata": {},
   "outputs": [],
   "source": [
    "#Your code here"
   ]
  },
  {
   "cell_type": "markdown",
   "metadata": {},
   "source": [
    "## Summary\n",
    "\n",
    "In this lesson, you got to practice some more complex SQL queries, some of which required subqueries. There's still plenty more SQL to be had though; hope you've been enjoying some of these puzzles!"
   ]
  }
 ],
 "metadata": {
  "kernelspec": {
   "display_name": "Python 3",
   "language": "python",
   "name": "python3"
  },
  "language_info": {
   "codemirror_mode": {
    "name": "ipython",
    "version": 3
   },
   "file_extension": ".py",
   "mimetype": "text/x-python",
   "name": "python",
   "nbconvert_exporter": "python",
   "pygments_lexer": "ipython3",
   "version": "3.6.6"
  }
 },
 "nbformat": 4,
 "nbformat_minor": 2
}
